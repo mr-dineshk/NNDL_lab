{
  "nbformat": 4,
  "nbformat_minor": 0,
  "metadata": {
    "colab": {
      "provenance": []
    },
    "kernelspec": {
      "name": "python3",
      "display_name": "Python 3"
    },
    "language_info": {
      "name": "python"
    }
  },
  "cells": [
    {
      "cell_type": "code",
      "execution_count": null,
      "metadata": {
        "id": "erCRJC8Mytas"
      },
      "outputs": [],
      "source": [
        "#implement a regression model in Keras\n",
        "import numpy as np\n",
        "import pandas as pd\n",
        "from tensorflow.keras.models import Sequential\n",
        "from tensorflow.keras.layers import Dense"
      ]
    },
    {
      "cell_type": "code",
      "source": [
        "np.random.seed(42)\n",
        "x_train = np.random.rand(100,1) #input features\n",
        "y_train = 2* x_train + 1 + 0.1 * np.random.randn(100,1) #linear relation with some noise"
      ],
      "metadata": {
        "id": "BzA_BqDSzUVB"
      },
      "execution_count": null,
      "outputs": []
    },
    {
      "cell_type": "code",
      "source": [
        "# Build the regression model\n",
        "model = Sequential()\n",
        "model.add(Dense(units = 1, input_shape = (1,), activation = 'linear'))"
      ],
      "metadata": {
        "id": "k4e2GkY60SMR"
      },
      "execution_count": null,
      "outputs": []
    },
    {
      "cell_type": "code",
      "source": [
        "#compile the model\n",
        "model.compile(optimizer = 'sgd', loss = 'mean_squared_error')"
      ],
      "metadata": {
        "id": "8Uuu0P8G1j8y"
      },
      "execution_count": null,
      "outputs": []
    },
    {
      "cell_type": "code",
      "source": [
        "#train the model\n",
        "model.fit(x_train,y_train,epochs =50, batch_size = 8)"
      ],
      "metadata": {
        "colab": {
          "base_uri": "https://localhost:8080/"
        },
        "id": "hUU8AFzC15Y1",
        "outputId": "7b0111f3-8687-43ca-fd67-c63bf5f5856d"
      },
      "execution_count": null,
      "outputs": [
        {
          "output_type": "stream",
          "name": "stdout",
          "text": [
            "Epoch 1/50\n",
            "13/13 [==============================] - 0s 3ms/step - loss: 3.7900\n",
            "Epoch 2/50\n",
            "13/13 [==============================] - 0s 3ms/step - loss: 2.0763\n",
            "Epoch 3/50\n",
            "13/13 [==============================] - 0s 3ms/step - loss: 1.1645\n",
            "Epoch 4/50\n",
            "13/13 [==============================] - 0s 3ms/step - loss: 0.6791\n",
            "Epoch 5/50\n",
            "13/13 [==============================] - 0s 3ms/step - loss: 0.4312\n",
            "Epoch 6/50\n",
            "13/13 [==============================] - 0s 3ms/step - loss: 0.2975\n",
            "Epoch 7/50\n",
            "13/13 [==============================] - 0s 4ms/step - loss: 0.2269\n",
            "Epoch 8/50\n",
            "13/13 [==============================] - 0s 5ms/step - loss: 0.1867\n",
            "Epoch 9/50\n",
            "13/13 [==============================] - 0s 3ms/step - loss: 0.1636\n",
            "Epoch 10/50\n",
            "13/13 [==============================] - 0s 3ms/step - loss: 0.1469\n",
            "Epoch 11/50\n",
            "13/13 [==============================] - 0s 3ms/step - loss: 0.1371\n",
            "Epoch 12/50\n",
            "13/13 [==============================] - 0s 2ms/step - loss: 0.1303\n",
            "Epoch 13/50\n",
            "13/13 [==============================] - 0s 2ms/step - loss: 0.1242\n",
            "Epoch 14/50\n",
            "13/13 [==============================] - 0s 3ms/step - loss: 0.1189\n",
            "Epoch 15/50\n",
            "13/13 [==============================] - 0s 3ms/step - loss: 0.1148\n",
            "Epoch 16/50\n",
            "13/13 [==============================] - 0s 3ms/step - loss: 0.1110\n",
            "Epoch 17/50\n",
            "13/13 [==============================] - 0s 3ms/step - loss: 0.1071\n",
            "Epoch 18/50\n",
            "13/13 [==============================] - 0s 3ms/step - loss: 0.1036\n",
            "Epoch 19/50\n",
            "13/13 [==============================] - 0s 3ms/step - loss: 0.0998\n",
            "Epoch 20/50\n",
            "13/13 [==============================] - 0s 2ms/step - loss: 0.0967\n",
            "Epoch 21/50\n",
            "13/13 [==============================] - 0s 2ms/step - loss: 0.0934\n",
            "Epoch 22/50\n",
            "13/13 [==============================] - 0s 2ms/step - loss: 0.0904\n",
            "Epoch 23/50\n",
            "13/13 [==============================] - 0s 3ms/step - loss: 0.0873\n",
            "Epoch 24/50\n",
            "13/13 [==============================] - 0s 2ms/step - loss: 0.0844\n",
            "Epoch 25/50\n",
            "13/13 [==============================] - 0s 2ms/step - loss: 0.0816\n",
            "Epoch 26/50\n",
            "13/13 [==============================] - 0s 3ms/step - loss: 0.0787\n",
            "Epoch 27/50\n",
            "13/13 [==============================] - 0s 3ms/step - loss: 0.0762\n",
            "Epoch 28/50\n",
            "13/13 [==============================] - 0s 2ms/step - loss: 0.0738\n",
            "Epoch 29/50\n",
            "13/13 [==============================] - 0s 3ms/step - loss: 0.0714\n",
            "Epoch 30/50\n",
            "13/13 [==============================] - 0s 3ms/step - loss: 0.0690\n",
            "Epoch 31/50\n",
            "13/13 [==============================] - 0s 2ms/step - loss: 0.0668\n",
            "Epoch 32/50\n",
            "13/13 [==============================] - 0s 3ms/step - loss: 0.0647\n",
            "Epoch 33/50\n",
            "13/13 [==============================] - 0s 3ms/step - loss: 0.0627\n",
            "Epoch 34/50\n",
            "13/13 [==============================] - 0s 2ms/step - loss: 0.0607\n",
            "Epoch 35/50\n",
            "13/13 [==============================] - 0s 2ms/step - loss: 0.0589\n",
            "Epoch 36/50\n",
            "13/13 [==============================] - 0s 3ms/step - loss: 0.0570\n",
            "Epoch 37/50\n",
            "13/13 [==============================] - 0s 3ms/step - loss: 0.0553\n",
            "Epoch 38/50\n",
            "13/13 [==============================] - 0s 3ms/step - loss: 0.0536\n",
            "Epoch 39/50\n",
            "13/13 [==============================] - 0s 3ms/step - loss: 0.0519\n",
            "Epoch 40/50\n",
            "13/13 [==============================] - 0s 3ms/step - loss: 0.0503\n",
            "Epoch 41/50\n",
            "13/13 [==============================] - 0s 3ms/step - loss: 0.0488\n",
            "Epoch 42/50\n",
            "13/13 [==============================] - 0s 3ms/step - loss: 0.0473\n",
            "Epoch 43/50\n",
            "13/13 [==============================] - 0s 3ms/step - loss: 0.0459\n",
            "Epoch 44/50\n",
            "13/13 [==============================] - 0s 3ms/step - loss: 0.0445\n",
            "Epoch 45/50\n",
            "13/13 [==============================] - 0s 3ms/step - loss: 0.0433\n",
            "Epoch 46/50\n",
            "13/13 [==============================] - 0s 3ms/step - loss: 0.0420\n",
            "Epoch 47/50\n",
            "13/13 [==============================] - 0s 3ms/step - loss: 0.0408\n",
            "Epoch 48/50\n",
            "13/13 [==============================] - 0s 3ms/step - loss: 0.0396\n",
            "Epoch 49/50\n",
            "13/13 [==============================] - 0s 3ms/step - loss: 0.0384\n",
            "Epoch 50/50\n",
            "13/13 [==============================] - 0s 3ms/step - loss: 0.0373\n"
          ]
        },
        {
          "output_type": "execute_result",
          "data": {
            "text/plain": [
              "<keras.src.callbacks.History at 0x7949aa8424d0>"
            ]
          },
          "metadata": {},
          "execution_count": 5
        }
      ]
    },
    {
      "cell_type": "code",
      "source": [
        "#Generate some test data\n",
        "x_test = np.array([[0.2],[0.5],[0.8]])"
      ],
      "metadata": {
        "id": "mmkTE1a12Lih"
      },
      "execution_count": null,
      "outputs": []
    },
    {
      "cell_type": "code",
      "source": [
        "# Make predictions\n",
        "predictions = model.predict(x_test)"
      ],
      "metadata": {
        "colab": {
          "base_uri": "https://localhost:8080/"
        },
        "id": "JT0Skrx02ic4",
        "outputId": "69c5670b-6055-4350-caea-192e05c60848"
      },
      "execution_count": null,
      "outputs": [
        {
          "output_type": "stream",
          "name": "stdout",
          "text": [
            "1/1 [==============================] - 0s 82ms/step\n"
          ]
        }
      ]
    },
    {
      "cell_type": "code",
      "source": [
        "print('Predictions:')\n",
        "predictions"
      ],
      "metadata": {
        "colab": {
          "base_uri": "https://localhost:8080/"
        },
        "id": "nrz8L6uw3oZR",
        "outputId": "acfbece8-20e0-4237-bfb4-ad08bb5f3a63"
      },
      "execution_count": null,
      "outputs": [
        {
          "output_type": "stream",
          "name": "stdout",
          "text": [
            "Predictions:\n"
          ]
        },
        {
          "output_type": "execute_result",
          "data": {
            "text/plain": [
              "array([[1.586357],\n",
              "       [2.002334],\n",
              "       [2.418311]], dtype=float32)"
            ]
          },
          "metadata": {},
          "execution_count": 20
        }
      ]
    },
    {
      "cell_type": "markdown",
      "source": [],
      "metadata": {
        "id": "FLIvesj74BhJ"
      }
    }
  ]
}