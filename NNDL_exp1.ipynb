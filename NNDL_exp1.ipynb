{
  "nbformat": 4,
  "nbformat_minor": 0,
  "metadata": {
    "colab": {
      "provenance": [],
      "authorship_tag": "ABX9TyPr9IO+pUm4KkpSAiS6jO7b",
      "include_colab_link": true
    },
    "kernelspec": {
      "name": "python3",
      "display_name": "Python 3"
    },
    "language_info": {
      "name": "python"
    }
  },
  "cells": [
    {
      "cell_type": "markdown",
      "metadata": {
        "id": "view-in-github",
        "colab_type": "text"
      },
      "source": [
        "<a href=\"https://colab.research.google.com/github/mr-dineshk/NNDL_lab/blob/main/NNDL_exp1.ipynb\" target=\"_parent\"><img src=\"https://colab.research.google.com/assets/colab-badge.svg\" alt=\"Open In Colab\"/></a>"
      ]
    },
    {
      "cell_type": "code",
      "execution_count": null,
      "metadata": {
        "id": "FKR8H-JeukMq"
      },
      "outputs": [],
      "source": [
        "#implement simple vector addition in Tensorflow\n",
        "import tensorflow as tf"
      ]
    },
    {
      "cell_type": "code",
      "source": [
        "#enable eager execution\n",
        "#tf.compat.v1.enable_eager_execution()"
      ],
      "metadata": {
        "id": "rtitvfdjuvj_"
      },
      "execution_count": null,
      "outputs": []
    },
    {
      "cell_type": "code",
      "source": [
        "#define two vector\n",
        "vector1 = tf.constant([1.0,2.0,3.0])\n",
        "vector2 = tf.constant([4.0,5.0,6.0])"
      ],
      "metadata": {
        "id": "pV1G2SH9xG1I"
      },
      "execution_count": null,
      "outputs": []
    },
    {
      "cell_type": "code",
      "source": [
        "result_vector = tf.add(vector1,vector2)"
      ],
      "metadata": {
        "id": "SxH8r1OzxzgI"
      },
      "execution_count": null,
      "outputs": []
    },
    {
      "cell_type": "code",
      "source": [
        "print('vector 1: ',vector1.numpy())\n",
        "print('vector 2: ',vector2.numpy())\n",
        "print('Result vector: ',result_vector.numpy())\n"
      ],
      "metadata": {
        "colab": {
          "base_uri": "https://localhost:8080/"
        },
        "id": "dc5MUrzmx5nm",
        "outputId": "4dad3e70-5b94-4b52-ab6a-df3110c8894a"
      },
      "execution_count": null,
      "outputs": [
        {
          "output_type": "stream",
          "name": "stdout",
          "text": [
            "vector 1:  [1. 2. 3.]\n",
            "vector 2:  [4. 5. 6.]\n",
            "Result vector:  [5. 7. 9.]\n"
          ]
        }
      ]
    },
    {
      "cell_type": "code",
      "source": [],
      "metadata": {
        "id": "l17GXu_1yOXx"
      },
      "execution_count": null,
      "outputs": []
    }
  ]
}