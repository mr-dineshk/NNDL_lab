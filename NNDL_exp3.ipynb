{
  "nbformat": 4,
  "nbformat_minor": 0,
  "metadata": {
    "colab": {
      "provenance": [],
      "authorship_tag": "ABX9TyPUTr9uWfOdTKLeVnF5RdRj",
      "include_colab_link": true
    },
    "kernelspec": {
      "name": "python3",
      "display_name": "Python 3"
    },
    "language_info": {
      "name": "python"
    }
  },
  "cells": [
    {
      "cell_type": "markdown",
      "metadata": {
        "id": "view-in-github",
        "colab_type": "text"
      },
      "source": [
        "<a href=\"https://colab.research.google.com/github/mr-dineshk/NNDL_lab/blob/main/NNDL_exp3.ipynb\" target=\"_parent\"><img src=\"https://colab.research.google.com/assets/colab-badge.svg\" alt=\"Open In Colab\"/></a>"
      ]
    },
    {
      "cell_type": "code",
      "execution_count": null,
      "metadata": {
        "id": "cXjqaEFM4O4j"
      },
      "outputs": [],
      "source": [
        "import numpy as np\n",
        "import tensorflow as tf\n",
        "from sklearn.model_selection import train_test_split\n",
        "from sklearn.metrics import accuracy_score"
      ]
    },
    {
      "cell_type": "code",
      "source": [
        "# Generate some synthetic data for a binary classification task\n",
        "np.random.seed(42)\n",
        "X = np.random.rand(100, 2) # Input features (2 features for simplicity)\n",
        "y = (X[:, 0] + X[:, 1] > 1).astype(int) # Binary label based on a simple condition\n",
        "X,y"
      ],
      "metadata": {
        "colab": {
          "base_uri": "https://localhost:8080/"
        },
        "id": "Cci1KGJz5PcJ",
        "outputId": "e9f57a30-0571-4cb2-f028-c033bf32da24"
      },
      "execution_count": null,
      "outputs": [
        {
          "output_type": "execute_result",
          "data": {
            "text/plain": [
              "(array([[0.37454012, 0.95071431],\n",
              "        [0.73199394, 0.59865848],\n",
              "        [0.15601864, 0.15599452],\n",
              "        [0.05808361, 0.86617615],\n",
              "        [0.60111501, 0.70807258],\n",
              "        [0.02058449, 0.96990985],\n",
              "        [0.83244264, 0.21233911],\n",
              "        [0.18182497, 0.18340451],\n",
              "        [0.30424224, 0.52475643],\n",
              "        [0.43194502, 0.29122914],\n",
              "        [0.61185289, 0.13949386],\n",
              "        [0.29214465, 0.36636184],\n",
              "        [0.45606998, 0.78517596],\n",
              "        [0.19967378, 0.51423444],\n",
              "        [0.59241457, 0.04645041],\n",
              "        [0.60754485, 0.17052412],\n",
              "        [0.06505159, 0.94888554],\n",
              "        [0.96563203, 0.80839735],\n",
              "        [0.30461377, 0.09767211],\n",
              "        [0.68423303, 0.44015249],\n",
              "        [0.12203823, 0.49517691],\n",
              "        [0.03438852, 0.9093204 ],\n",
              "        [0.25877998, 0.66252228],\n",
              "        [0.31171108, 0.52006802],\n",
              "        [0.54671028, 0.18485446],\n",
              "        [0.96958463, 0.77513282],\n",
              "        [0.93949894, 0.89482735],\n",
              "        [0.59789998, 0.92187424],\n",
              "        [0.0884925 , 0.19598286],\n",
              "        [0.04522729, 0.32533033],\n",
              "        [0.38867729, 0.27134903],\n",
              "        [0.82873751, 0.35675333],\n",
              "        [0.28093451, 0.54269608],\n",
              "        [0.14092422, 0.80219698],\n",
              "        [0.07455064, 0.98688694],\n",
              "        [0.77224477, 0.19871568],\n",
              "        [0.00552212, 0.81546143],\n",
              "        [0.70685734, 0.72900717],\n",
              "        [0.77127035, 0.07404465],\n",
              "        [0.35846573, 0.11586906],\n",
              "        [0.86310343, 0.62329813],\n",
              "        [0.33089802, 0.06355835],\n",
              "        [0.31098232, 0.32518332],\n",
              "        [0.72960618, 0.63755747],\n",
              "        [0.88721274, 0.47221493],\n",
              "        [0.11959425, 0.71324479],\n",
              "        [0.76078505, 0.5612772 ],\n",
              "        [0.77096718, 0.4937956 ],\n",
              "        [0.52273283, 0.42754102],\n",
              "        [0.02541913, 0.10789143],\n",
              "        [0.03142919, 0.63641041],\n",
              "        [0.31435598, 0.50857069],\n",
              "        [0.90756647, 0.24929223],\n",
              "        [0.41038292, 0.75555114],\n",
              "        [0.22879817, 0.07697991],\n",
              "        [0.28975145, 0.16122129],\n",
              "        [0.92969765, 0.80812038],\n",
              "        [0.63340376, 0.87146059],\n",
              "        [0.80367208, 0.18657006],\n",
              "        [0.892559  , 0.53934224],\n",
              "        [0.80744016, 0.8960913 ],\n",
              "        [0.31800347, 0.11005192],\n",
              "        [0.22793516, 0.42710779],\n",
              "        [0.81801477, 0.86073058],\n",
              "        [0.00695213, 0.5107473 ],\n",
              "        [0.417411  , 0.22210781],\n",
              "        [0.11986537, 0.33761517],\n",
              "        [0.9429097 , 0.32320293],\n",
              "        [0.51879062, 0.70301896],\n",
              "        [0.3636296 , 0.97178208],\n",
              "        [0.96244729, 0.2517823 ],\n",
              "        [0.49724851, 0.30087831],\n",
              "        [0.28484049, 0.03688695],\n",
              "        [0.60956433, 0.50267902],\n",
              "        [0.05147875, 0.27864646],\n",
              "        [0.90826589, 0.23956189],\n",
              "        [0.14489487, 0.48945276],\n",
              "        [0.98565045, 0.24205527],\n",
              "        [0.67213555, 0.76161962],\n",
              "        [0.23763754, 0.72821635],\n",
              "        [0.36778313, 0.63230583],\n",
              "        [0.63352971, 0.53577468],\n",
              "        [0.09028977, 0.8353025 ],\n",
              "        [0.32078006, 0.18651851],\n",
              "        [0.04077514, 0.59089294],\n",
              "        [0.67756436, 0.01658783],\n",
              "        [0.51209306, 0.22649578],\n",
              "        [0.64517279, 0.17436643],\n",
              "        [0.69093774, 0.38673535],\n",
              "        [0.93672999, 0.13752094],\n",
              "        [0.34106635, 0.11347352],\n",
              "        [0.92469362, 0.87733935],\n",
              "        [0.25794163, 0.65998405],\n",
              "        [0.8172222 , 0.55520081],\n",
              "        [0.52965058, 0.24185229],\n",
              "        [0.09310277, 0.89721576],\n",
              "        [0.90041806, 0.63310146],\n",
              "        [0.33902979, 0.34920957],\n",
              "        [0.72595568, 0.89711026],\n",
              "        [0.88708642, 0.77987555]]),\n",
              " array([1, 1, 0, 0, 1, 0, 1, 0, 0, 0, 0, 0, 1, 0, 0, 0, 1, 1, 0, 1, 0, 0,\n",
              "        0, 0, 0, 1, 1, 1, 0, 0, 0, 1, 0, 0, 1, 0, 0, 1, 0, 0, 1, 0, 0, 1,\n",
              "        1, 0, 1, 1, 0, 0, 0, 0, 1, 1, 0, 0, 1, 1, 0, 1, 1, 0, 0, 1, 0, 0,\n",
              "        0, 1, 1, 1, 1, 0, 0, 1, 0, 1, 0, 1, 1, 0, 1, 1, 0, 0, 0, 0, 0, 0,\n",
              "        1, 1, 0, 1, 0, 1, 0, 0, 1, 0, 1, 1]))"
            ]
          },
          "metadata": {},
          "execution_count": 6
        }
      ]
    },
    {
      "cell_type": "code",
      "source": [
        "# Split the data into training and testing sets\n",
        "X_train, X_test, y_train, y_test = train_test_split(X, y, test_size=0.2,\n",
        "random_state=42)"
      ],
      "metadata": {
        "id": "F9sRxXPU5VyO"
      },
      "execution_count": null,
      "outputs": []
    },
    {
      "cell_type": "code",
      "source": [
        "# Build a perceptron model\n",
        "model = tf.keras.Sequential([\n",
        "tf.keras.layers.Input(shape=(2,)),\n",
        "tf.keras.layers.Dense(units=1, activation='sigmoid')])"
      ],
      "metadata": {
        "id": "OWptQHIj5ixu"
      },
      "execution_count": null,
      "outputs": []
    },
    {
      "cell_type": "code",
      "source": [
        "# Compile the model\n",
        "model.compile(optimizer='sgd', loss='binary_crossentropy',\n",
        "metrics=['accuracy'])"
      ],
      "metadata": {
        "id": "xVhd0-Aj59nn"
      },
      "execution_count": null,
      "outputs": []
    },
    {
      "cell_type": "code",
      "source": [
        "# Train the perceptron\n",
        "model.fit(X_train, y_train, epochs=50, batch_size=8, verbose=0)"
      ],
      "metadata": {
        "colab": {
          "base_uri": "https://localhost:8080/"
        },
        "id": "FQ6T5Ay364uO",
        "outputId": "54ad1d7c-c7fc-4ffa-b80a-419a804f9bcf"
      },
      "execution_count": null,
      "outputs": [
        {
          "output_type": "execute_result",
          "data": {
            "text/plain": [
              "<keras.src.callbacks.History at 0x7fd9a4346710>"
            ]
          },
          "metadata": {},
          "execution_count": 10
        }
      ]
    },
    {
      "cell_type": "code",
      "source": [
        "# Make predictions on the test set\n",
        "predictions = model.predict(X_test)\n",
        "binary_predictions = (predictions > 0.5).astype(int)"
      ],
      "metadata": {
        "colab": {
          "base_uri": "https://localhost:8080/"
        },
        "id": "JDX1XbFi678n",
        "outputId": "64626984-83c2-421e-b0d0-2188cdd5d998"
      },
      "execution_count": null,
      "outputs": [
        {
          "output_type": "stream",
          "name": "stdout",
          "text": [
            "1/1 [==============================] - 0s 115ms/step\n"
          ]
        }
      ]
    },
    {
      "cell_type": "code",
      "source": [
        "# Evaluate accuracy\n",
        "accuracy = accuracy_score(y_test, binary_predictions)\n",
        "print(\"Accuracy on the test set:\", accuracy)"
      ],
      "metadata": {
        "id": "fDpGQYFK7ALf",
        "outputId": "d12f0289-25e6-43fa-f5c7-23d8b5e6bf0a",
        "colab": {
          "base_uri": "https://localhost:8080/"
        }
      },
      "execution_count": null,
      "outputs": [
        {
          "output_type": "stream",
          "name": "stdout",
          "text": [
            "Accuracy on the test set: 0.6\n"
          ]
        }
      ]
    },
    {
      "cell_type": "code",
      "source": [],
      "metadata": {
        "id": "wa3rLo0u7DXX"
      },
      "execution_count": null,
      "outputs": []
    }
  ]
}