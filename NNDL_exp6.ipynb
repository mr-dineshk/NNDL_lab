{
  "nbformat": 4,
  "nbformat_minor": 0,
  "metadata": {
    "colab": {
      "provenance": []
    },
    "kernelspec": {
      "name": "python3",
      "display_name": "Python 3"
    },
    "language_info": {
      "name": "python"
    }
  },
  "cells": [
    {
      "cell_type": "code",
      "execution_count": null,
      "metadata": {
        "id": "vdVARacC8Yzf"
      },
      "outputs": [],
      "source": [
        "import tensorflow as tf\n",
        "from tensorflow.keras import layers, models\n",
        "from tensorflow.keras.datasets import mnist\n",
        "from tensorflow.keras.utils import to_categorical\n",
        "from tensorflow.keras.optimizers import Adam\n",
        "from tensorflow.keras.callbacks import EarlyStopping, ModelCheckpoint\n",
        "import matplotlib.pyplot as plt"
      ]
    },
    {
      "cell_type": "code",
      "source": [
        "# Load and preprocess the MNIST dataset\n",
        "(train_images, train_labels), (test_images, test_labels) = mnist.load_data()\n",
        "train_images = train_images.reshape((60000, 28, 28, 1)).astype('float32') / 255\n",
        "test_images = test_images.reshape((10000, 28, 28, 1)).astype('float32') / 255"
      ],
      "metadata": {
        "colab": {
          "base_uri": "https://localhost:8080/"
        },
        "id": "wfkMWsQy8fEW",
        "outputId": "71d52167-2086-4ffb-9ccf-9c3b18f9c7e5"
      },
      "execution_count": null,
      "outputs": [
        {
          "output_type": "stream",
          "name": "stdout",
          "text": [
            "Downloading data from https://storage.googleapis.com/tensorflow/tf-keras-datasets/mnist.npz\n",
            "11490434/11490434 [==============================] - 0s 0us/step\n"
          ]
        }
      ]
    },
    {
      "cell_type": "code",
      "source": [
        "train_labels = to_categorical(train_labels)\n",
        "test_labels = to_categorical(test_labels)"
      ],
      "metadata": {
        "id": "SIoLn55s-quL"
      },
      "execution_count": null,
      "outputs": []
    },
    {
      "cell_type": "code",
      "source": [
        "# Build the CNN model with hyperparameter tuning\n",
        "model = models.Sequential()\n",
        "model.add(layers.Conv2D(32, (3, 3), activation='relu', input_shape=(28, 28, 1)))\n",
        "model.add(layers.MaxPooling2D((2, 2)))\n",
        "model.add(layers.Conv2D(64, (3, 3), activation='relu'))\n",
        "model.add(layers.MaxPooling2D((2, 2)))\n",
        "model.add(layers.Conv2D(128, (3, 3), activation='relu')) # Increased filters\n",
        "model.add(layers.MaxPooling2D((2, 2)))\n",
        "model.add(layers.Flatten())\n",
        "model.add(layers.Dense(128, activation='relu')) # Increased units\n",
        "model.add(layers.Dense(10, activation='softmax'))"
      ],
      "metadata": {
        "id": "oBxDtC7DAezJ"
      },
      "execution_count": null,
      "outputs": []
    },
    {
      "cell_type": "code",
      "source": [
        "# Compile the model with fine-tuned hyperparameters\n",
        "optimizer = Adam(learning_rate=0.001) # Adjusted learning rate\n",
        "model.compile(optimizer=optimizer,\n",
        "loss='categorical_crossentropy',\n",
        "metrics=['accuracy'])"
      ],
      "metadata": {
        "id": "YBdNHkKhAgZZ"
      },
      "execution_count": null,
      "outputs": []
    },
    {
      "cell_type": "code",
      "source": [
        "# Define callbacks for early stopping and model checkpoint\n",
        "early_stopping = EarlyStopping(monitor='val_loss', patience=3,\n",
        "restore_best_weights=True)\n",
        "model_checkpoint = ModelCheckpoint('best_model.h5', save_best_only=True)"
      ],
      "metadata": {
        "id": "LnQMQc5kAvwo"
      },
      "execution_count": null,
      "outputs": []
    },
    {
      "cell_type": "code",
      "source": [
        "# Train the CNN model with fine-tuned hyperparameters\n",
        "history = model.fit(train_images, train_labels, epochs=20, batch_size=64,\n",
        "validation_data=(test_images, test_labels),\n",
        "callbacks=[early_stopping, model_checkpoint])"
      ],
      "metadata": {
        "colab": {
          "base_uri": "https://localhost:8080/"
        },
        "id": "CYTMkT6nAywA",
        "outputId": "dc956f45-b25c-4c1f-fbfb-0c5240139215"
      },
      "execution_count": null,
      "outputs": [
        {
          "output_type": "stream",
          "name": "stdout",
          "text": [
            "Epoch 1/20\n",
            "938/938 [==============================] - 58s 61ms/step - loss: 0.2229 - accuracy: 0.9328 - val_loss: 0.0722 - val_accuracy: 0.9787\n",
            "Epoch 2/20\n",
            "  3/938 [..............................] - ETA: 40s - loss: 0.0495 - accuracy: 0.9844"
          ]
        },
        {
          "output_type": "stream",
          "name": "stderr",
          "text": [
            "/usr/local/lib/python3.10/dist-packages/keras/src/engine/training.py:3103: UserWarning: You are saving your model as an HDF5 file via `model.save()`. This file format is considered legacy. We recommend using instead the native Keras format, e.g. `model.save('my_model.keras')`.\n",
            "  saving_api.save_model(\n"
          ]
        },
        {
          "output_type": "stream",
          "name": "stdout",
          "text": [
            "938/938 [==============================] - 47s 50ms/step - loss: 0.0725 - accuracy: 0.9779 - val_loss: 0.0648 - val_accuracy: 0.9790\n",
            "Epoch 3/20\n",
            "938/938 [==============================] - 48s 51ms/step - loss: 0.0511 - accuracy: 0.9844 - val_loss: 0.0594 - val_accuracy: 0.9819\n",
            "Epoch 4/20\n",
            "938/938 [==============================] - 47s 50ms/step - loss: 0.0421 - accuracy: 0.9867 - val_loss: 0.0600 - val_accuracy: 0.9824\n",
            "Epoch 5/20\n",
            "938/938 [==============================] - 47s 50ms/step - loss: 0.0345 - accuracy: 0.9895 - val_loss: 0.0578 - val_accuracy: 0.9832\n",
            "Epoch 6/20\n",
            "938/938 [==============================] - 49s 52ms/step - loss: 0.0284 - accuracy: 0.9915 - val_loss: 0.0507 - val_accuracy: 0.9864\n",
            "Epoch 7/20\n",
            "938/938 [==============================] - 48s 51ms/step - loss: 0.0217 - accuracy: 0.9933 - val_loss: 0.0643 - val_accuracy: 0.9827\n",
            "Epoch 8/20\n",
            "938/938 [==============================] - 46s 49ms/step - loss: 0.0186 - accuracy: 0.9940 - val_loss: 0.0532 - val_accuracy: 0.9847\n",
            "Epoch 9/20\n",
            "938/938 [==============================] - 47s 51ms/step - loss: 0.0170 - accuracy: 0.9942 - val_loss: 0.0552 - val_accuracy: 0.9865\n"
          ]
        }
      ]
    },
    {
      "cell_type": "code",
      "source": [
        "# Load the best model from the checkpoint\n",
        "best_model = models.load_model('best_model.h5')"
      ],
      "metadata": {
        "id": "DSsCybFWA08Z"
      },
      "execution_count": null,
      "outputs": []
    },
    {
      "cell_type": "code",
      "source": [
        "# Evaluate the best model on the test set\n",
        "test_loss, test_acc = best_model.evaluate(test_images, test_labels)\n",
        "print(f'Test accuracy of the best model: {test_acc}')"
      ],
      "metadata": {
        "colab": {
          "base_uri": "https://localhost:8080/"
        },
        "id": "jX2xI9ZwA62K",
        "outputId": "d6a60127-a4ea-44b8-db5b-b6f34bae86fd"
      },
      "execution_count": null,
      "outputs": [
        {
          "output_type": "stream",
          "name": "stdout",
          "text": [
            "313/313 [==============================] - 3s 8ms/step - loss: 0.0507 - accuracy: 0.9864\n",
            "Test accuracy of the best model: 0.9864000082015991\n"
          ]
        }
      ]
    },
    {
      "cell_type": "code",
      "source": [
        "# Plot training history\n",
        "plt.plot(history.history['accuracy'], label='Training Accuracy')\n",
        "plt.plot(history.history['val_accuracy'], label='Validation Accuracy')\n",
        "plt.xlabel('Epoch')\n",
        "plt.ylabel('Accuracy')\n",
        "plt.legend()\n",
        "plt.show()"
      ],
      "metadata": {
        "colab": {
          "base_uri": "https://localhost:8080/",
          "height": 54
        },
        "id": "gpbg99jJA9dg",
        "outputId": "0988df0e-0ea8-44dc-87e4-8c5a5b531d33"
      },
      "execution_count": null,
      "outputs": [
        {
          "output_type": "display_data",
          "data": {
            "text/plain": [
              "<Figure size 640x480 with 1 Axes>"
            ],
            "image/png": "[encoded data removed]"
          },
          "metadata": {}
        }
      ]
    },
    {
      "cell_type": "code",
      "source": [],
      "metadata": {
        "id": "_zj7TjG8BAD3"
      },
      "execution_count": null,
      "outputs": []
    }
  ]
}